{
 "cells": [
  {
   "cell_type": "code",
   "execution_count": 1,
   "id": "765154d4",
   "metadata": {},
   "outputs": [],
   "source": [
    "import numpy as np"
   ]
  },
  {
   "cell_type": "code",
   "execution_count": 2,
   "id": "72c5c0d1",
   "metadata": {},
   "outputs": [],
   "source": [
    "import matplotlib.pyplot as plt"
   ]
  },
  {
   "cell_type": "code",
   "execution_count": 3,
   "id": "c79f3e5c",
   "metadata": {},
   "outputs": [],
   "source": [
    "from sklearn.model_selection import train_test_split"
   ]
  },
  {
   "cell_type": "code",
   "execution_count": 4,
   "id": "80dfafe6",
   "metadata": {},
   "outputs": [],
   "source": [
    "from sklearn.metrics import accuracy_score, confusion_matrix"
   ]
  },
  {
   "cell_type": "code",
   "execution_count": 5,
   "id": "663cc4c5",
   "metadata": {},
   "outputs": [
    {
     "name": "stdout",
     "output_type": "stream",
     "text": [
      "Features: ['sepal length (cm)', 'sepal width (cm)', 'petal length (cm)', 'petal width (cm)']\n",
      "Target names: ['setosa' 'versicolor' 'virginica']\n",
      "Data sample:\n",
      "Features: [5.1 3.5 1.4 0.2] -> Target: setosa\n",
      "Features: [4.9 3.  1.4 0.2] -> Target: setosa\n",
      "Features: [4.7 3.2 1.3 0.2] -> Target: setosa\n",
      "Features: [4.6 3.1 1.5 0.2] -> Target: setosa\n",
      "Features: [5.  3.6 1.4 0.2] -> Target: setosa\n",
      "Features: ['sepal length (cm)', 'sepal width (cm)', 'petal length (cm)', 'petal width (cm)']\n",
      "Target names: ['setosa' 'versicolor' 'virginica']\n"
     ]
    }
   ],
   "source": [
    "def load_iris_dataset():\n",
    "    from sklearn.datasets import load_iris\n",
    "    iris = load_iris()\n",
    "    X = iris.data  \n",
    "    y = iris.target \n",
    "    feature_names = iris.feature_names\n",
    "    target_names = iris.target_names\n",
    "    print(\"Features:\", feature_names)\n",
    "    print(\"Target names:\", target_names)\n",
    "    print(\"Data sample:\")\n",
    "    for i in range(5):\n",
    "        print(\"Features:\", X[i], \"-> Target:\", target_names[y[i]])\n",
    "    return X, y, feature_names, target_names\n",
    "X, y, feature_names, target_names = load_iris_dataset()\n",
    "print(\"Features:\", feature_names)\n",
    "print(\"Target names:\", target_names)"
   ]
  },
  {
   "cell_type": "code",
   "execution_count": 6,
   "id": "4fdd722b",
   "metadata": {},
   "outputs": [],
   "source": [
    "def split_dataset(X, y, test_size=0.2, random_state=None):\n",
    "    X_train, X_test, y_train, y_test = train_test_split(X, y, test_size=test_size, random_state=random_state)\n",
    "    return X_train, X_test, y_train, y_test"
   ]
  },
  {
   "cell_type": "code",
   "execution_count": 7,
   "id": "ee1b2159",
   "metadata": {},
   "outputs": [],
   "source": [
    "def euclidean_distance(x1, x2):\n",
    "    return np.sqrt(np.sum((x1 - x2)**2))\n",
    "\n",
    "def predict(X_train, y_train, x_test, k=3):\n",
    "    distances = []\n",
    "    for i in range(len(X_train)):\n",
    "        dist = euclidean_distance(x_test, X_train[i])\n",
    "        distances.append((dist, y_train[i]))\n",
    "    distances = sorted(distances)[:k]\n",
    "    labels = [dist[1] for dist in distances]\n",
    "    return max(set(labels), key=labels.count)"
   ]
  },
  {
   "cell_type": "code",
   "execution_count": 8,
   "id": "215b9a7e",
   "metadata": {},
   "outputs": [],
   "source": [
    "def KNN(X_train, y_train, X_test, k=3):\n",
    "    predictions = []\n",
    "    for i in range(len(X_test)):\n",
    "        predictions.append(predict(X_train, y_train, X_test[i], k))\n",
    "    return np.array(predictions)"
   ]
  },
  {
   "cell_type": "code",
   "execution_count": 9,
   "id": "bdf1cdeb",
   "metadata": {},
   "outputs": [],
   "source": [
    "def evaluate(y_true, y_pred):\n",
    "    acc = accuracy_score(y_true, y_pred)\n",
    "    cm = confusion_matrix(y_true, y_pred)\n",
    "    return acc, cm"
   ]
  },
  {
   "cell_type": "code",
   "execution_count": 10,
   "id": "5feb8c77",
   "metadata": {},
   "outputs": [],
   "source": [
    "def plot_k_vs_accuracy(X, y, X_test, y_test, max_k=20):\n",
    "    accuracies = []\n",
    "    k_values = range(1, max_k+1)\n",
    "    for k in k_values:\n",
    "        y_pred = KNN(X, y, X_test, k)\n",
    "        acc, _ = evaluate(y_test, y_pred)\n",
    "        accuracies.append(acc)\n",
    "    plt.plot(k_values, accuracies)\n",
    "    plt.title('k vs Accuracy')\n",
    "    plt.xlabel('Value of k')\n",
    "    plt.ylabel('Accuracy')\n",
    "    plt.show()"
   ]
  },
  {
   "cell_type": "code",
   "execution_count": 20,
   "id": "27bec0f4",
   "metadata": {},
   "outputs": [],
   "source": [
    "def main():\n",
    "    X, y = load_iris_dataset()\n",
    "    X_train, X_test, y_train, y_test = split_dataset(X, y, test_size=0.2, random_state=42)\n",
    "    k = 3  \n",
    "    y_pred = KNN(X_train, y_train, X_test, k)\n",
    "    acc, cm = evaluate(y_test, y_pred)\n",
    "    print(\"Accuracy:\", acc)\n",
    "    print(\"Confusion Matrix:\\n\", cm)\n",
    "    plot_k_vs_accuracy(X_train, y_train, X_test, y_test)"
   ]
  },
  {
   "cell_type": "code",
   "execution_count": 21,
   "id": "d825fd6e",
   "metadata": {},
   "outputs": [],
   "source": [
    "def main():\n",
    "    X, y, _, _ = load_iris_dataset()  \n",
    "    X_train, X_test, y_train, y_test = split_dataset(X, y, test_size=0.2, random_state=42)\n",
    "    k = 3  \n",
    "    y_pred = KNN(X_train, y_train, X_test, k)\n",
    "    acc, cm = evaluate(y_test, y_pred)\n",
    "    print(\"Accuracy:\", acc)\n",
    "    print(\"Confusion Matrix:\\n\", cm)\n",
    "    plot_k_vs_accuracy(X_train, y_train, X_test, y_test)"
   ]
  },
  {
   "cell_type": "code",
   "execution_count": 22,
   "id": "acf59cd5",
   "metadata": {},
   "outputs": [
    {
     "name": "stdout",
     "output_type": "stream",
     "text": [
      "Features: ['sepal length (cm)', 'sepal width (cm)', 'petal length (cm)', 'petal width (cm)']\n",
      "Target names: ['setosa' 'versicolor' 'virginica']\n",
      "Data sample:\n",
      "Features: [5.1 3.5 1.4 0.2] -> Target: setosa\n",
      "Features: [4.9 3.  1.4 0.2] -> Target: setosa\n",
      "Features: [4.7 3.2 1.3 0.2] -> Target: setosa\n",
      "Features: [4.6 3.1 1.5 0.2] -> Target: setosa\n",
      "Features: [5.  3.6 1.4 0.2] -> Target: setosa\n",
      "Accuracy: 1.0\n",
      "Confusion Matrix:\n",
      " [[10  0  0]\n",
      " [ 0  9  0]\n",
      " [ 0  0 11]]\n"
     ]
    },
    {
     "data": {
      "image/png": "[encoded data removed]",
      "text/plain": [
       "<Figure size 640x480 with 1 Axes>"
      ]
     },
     "metadata": {},
     "output_type": "display_data"
    }
   ],
   "source": [
    "if __name__ == \"__main__\":\n",
    "    main()"
   ]
  }
 ],
 "metadata": {
  "kernelspec": {
   "display_name": "Python 3 (ipykernel)",
   "language": "python",
   "name": "python3"
  },
  "language_info": {
   "codemirror_mode": {
    "name": "ipython",
    "version": 3
   },
   "file_extension": ".py",
   "mimetype": "text/x-python",
   "name": "python",
   "nbconvert_exporter": "python",
   "pygments_lexer": "ipython3",
   "version": "3.10.9"
  }
 },
 "nbformat": 4,
 "nbformat_minor": 5
}
