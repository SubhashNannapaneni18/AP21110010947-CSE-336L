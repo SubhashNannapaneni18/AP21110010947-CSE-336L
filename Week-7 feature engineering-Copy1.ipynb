{
 "cells": [
  {
   "cell_type": "markdown",
   "id": "a2c14eb1",
   "metadata": {},
   "source": [
    "### 1.Create a vector (array) of 1XN dimension representing N-dimensional feature vector of a sample. Write a program tocompute the mean and variance of the elements present in the array.Comment what the mean and variance of sample represents."
   ]
  },
  {
   "cell_type": "code",
   "execution_count": 46,
   "id": "4cd07843",
   "metadata": {},
   "outputs": [
    {
     "name": "stdout",
     "output_type": "stream",
     "text": [
      "Enter the dimension of the vector: 9\n",
      "Enter element 1: 4\n",
      "Enter element 2: 5\n",
      "Enter element 3: 6\n",
      "Enter element 4: 7\n",
      "Enter element 5: 8\n",
      "Enter element 6: 9\n",
      "Enter element 7: 9\n",
      "Enter element 8: 8\n",
      "Enter element 9: 4\n",
      "Sample Vector: [4. 5. 6. 7. 8. 9. 9. 8. 4.]\n",
      "Mean: 6.666666666666667\n",
      "Sample Variance: 4.0\n",
      "Population Variance: 3.5555555555555554\n"
     ]
    }
   ],
   "source": [
    "import numpy as np\n",
    "\n",
    "def compute_mean(array):\n",
    "    mean = np.sum(array) / len(array)\n",
    "    return mean\n",
    "\n",
    "def compute_sample_variance(array):\n",
    "    mean = compute_mean(array)\n",
    "    squared_diff = np.sum((array - mean) ** 2)\n",
    "    variance = squared_diff / (len(array) - 1)\n",
    "    return variance\n",
    "\n",
    "def compute_population_variance(array):\n",
    "    mean = compute_mean(array)\n",
    "    squared_diff = np.sum((array - mean) ** 2)\n",
    "    variance = squared_diff / len(array)\n",
    "    return variance\n",
    "\n",
    "def main():\n",
    "    N = int(input(\"Enter the dimension of the vector: \"))\n",
    "    sample_vector = np.zeros(N)\n",
    "    for i in range(N):\n",
    "        sample_vector[i] = float(input(f\"Enter element {i+1}: \"))\n",
    "\n",
    "    print(\"Sample Vector:\", sample_vector)\n",
    "    mean = compute_mean(sample_vector)\n",
    "    sample_variance = compute_sample_variance(sample_vector)\n",
    "    population_variance = compute_population_variance(sample_vector)\n",
    "\n",
    "    print(\"Mean:\", mean)\n",
    "    print(\"Sample Variance:\", sample_variance)\n",
    "    print(\"Population Variance:\", population_variance)\n",
    "\n",
    "if __name__ == \"__main__\":\n",
    "    main()"
   ]
  },
  {
   "cell_type": "markdown",
   "id": "8da46214",
   "metadata": {},
   "source": [
    "### 2.Create two vectors each of dimension 1XM each representing N-dimensional feature vector of a sample. Write a program to compute the Covariance between them.Comment what Covariance between two vectors represents."
   ]
  },
  {
   "cell_type": "code",
   "execution_count": 47,
   "id": "33bee7e2",
   "metadata": {},
   "outputs": [],
   "source": [
    "import numpy as np"
   ]
  },
  {
   "cell_type": "code",
   "execution_count": 48,
   "id": "ca8df0bd",
   "metadata": {},
   "outputs": [],
   "source": [
    "def compute_covariance(vector1, vector2):\n",
    "    covariance = np.cov(vector1, vector2)[0][1]\n",
    "    return covariance"
   ]
  },
  {
   "cell_type": "code",
   "execution_count": 55,
   "id": "e434a9d8",
   "metadata": {},
   "outputs": [],
   "source": [
    "def main():\n",
    "    M = int(input(\"Enter the dimension of the vectors: \"))\n",
    "    vector1 = np.random.rand(1, M)\n",
    "    vector2 = np.random.rand(1, M)\n",
    "\n",
    "    print(\"Vector 1:\", vector1)\n",
    "    print(\"Vector 2:\", vector2)\n",
    "\n",
    "    covariance = compute_covariance(vector1, vector2)\n",
    "    print(\"Covariance between Vector 1 and Vector 2:\", covariance)"
   ]
  },
  {
   "cell_type": "code",
   "execution_count": 58,
   "id": "0853c819",
   "metadata": {},
   "outputs": [
    {
     "name": "stdout",
     "output_type": "stream",
     "text": [
      "Enter the dimension of the vectors: 4\n",
      "Vector 1: [[0.29379488 0.09576954 0.3098351  0.00106487]]\n",
      "Vector 2: [[0.690293   0.9440305  0.09341083 0.57115821]]\n",
      "Covariance between Vector 1 and Vector 2: -0.02660300402146056\n"
     ]
    }
   ],
   "source": [
    "if __name__ == \"__main__\":\n",
    "    main()"
   ]
  },
  {
   "cell_type": "markdown",
   "id": "04d75526",
   "metadata": {},
   "source": [
    "### 3.Create two vectors each of dimension 1XN. Write a program to compute the Correlation between them.Comment what the Correlation represents."
   ]
  },
  {
   "cell_type": "code",
   "execution_count": 59,
   "id": "8f53a979",
   "metadata": {},
   "outputs": [],
   "source": [
    "import numpy as np"
   ]
  },
  {
   "cell_type": "code",
   "execution_count": 60,
   "id": "b1e4bd3c",
   "metadata": {},
   "outputs": [],
   "source": [
    "def compute_correlation(vector1, vector2):\n",
    "    correlation = np.corrcoef(vector1, vector2)[0][1]\n",
    "    return correlation"
   ]
  },
  {
   "cell_type": "code",
   "execution_count": 63,
   "id": "364556c2",
   "metadata": {},
   "outputs": [],
   "source": [
    "def main():\n",
    "    N = int(input(\"Enter the dimension of the vectors: \"))\n",
    "    vector1 = np.random.rand(1, N)\n",
    "    vector2 = np.random.rand(1, N)\n",
    "\n",
    "    print(\"Vector 1:\", vector1)\n",
    "    print(\"Vector 2:\", vector2)\n",
    "    \n",
    "    correlation = compute_correlation(vector1, vector2)\n",
    "    print(\"Correlation between Vector 1 and Vector 2:\", correlation)"
   ]
  },
  {
   "cell_type": "code",
   "execution_count": 64,
   "id": "e6e7af0a",
   "metadata": {},
   "outputs": [
    {
     "name": "stdout",
     "output_type": "stream",
     "text": [
      "Enter the dimension of the vectors: 6\n",
      "Vector 1: [[0.55567093 0.17384506 0.22069474 0.23836035 0.70177252 0.37429848]]\n",
      "Vector 2: [[0.90781159 0.58471281 0.99092155 0.10741393 0.14587509 0.94546283]]\n",
      "Correlation between Vector 1 and Vector 2: -0.19538554857043205\n"
     ]
    }
   ],
   "source": [
    "if __name__ == \"__main__\":\n",
    "    main()"
   ]
  },
  {
   "cell_type": "markdown",
   "id": "35469c6c",
   "metadata": {},
   "source": [
    "### 4.Create a Matrix of MXN dimension representing the M-dimensional feature vector for N number of samples i. e (i,j)th entry of the matrix represents the ith feature of jth sample. Write a program to compute the covariance matrix and correlation matrix.Comment on takeaways from these matrixes."
   ]
  },
  {
   "cell_type": "code",
   "execution_count": 66,
   "id": "64e8dc03",
   "metadata": {},
   "outputs": [],
   "source": [
    "import numpy as np"
   ]
  },
  {
   "cell_type": "code",
   "execution_count": 67,
   "id": "67cc7765",
   "metadata": {},
   "outputs": [],
   "source": [
    "def compute_covariance_matrix(matrix):\n",
    "    covariance_matrix = np.cov(matrix)\n",
    "    return covariance_matrix"
   ]
  },
  {
   "cell_type": "code",
   "execution_count": 68,
   "id": "6298c352",
   "metadata": {},
   "outputs": [],
   "source": [
    "def compute_correlation_matrix(matrix):\n",
    "    correlation_matrix = np.corrcoef(matrix)\n",
    "    return correlation_matrix"
   ]
  },
  {
   "cell_type": "code",
   "execution_count": 69,
   "id": "5d50ea00",
   "metadata": {},
   "outputs": [],
   "source": [
    "def main():\n",
    "    M = int(input(\"Enter the dimension of the feature vector: \"))\n",
    "    N = int(input(\"Enter the number of samples: \"))\n",
    "    feature_matrix = np.random.rand(M, N)\n",
    "\n",
    "    print(\"Feature Matrix:\\n\", feature_matrix)\n",
    "\n",
    "    covariance_matrix = compute_covariance_matrix(feature_matrix)\n",
    "    print(\"\\nCovariance Matrix:\\n\", covariance_matrix)\n",
    "\n",
    "    correlation_matrix = compute_correlation_matrix(feature_matrix)\n",
    "    print(\"\\nCorrelation Matrix:\\n\", correlation_matrix)"
   ]
  },
  {
   "cell_type": "code",
   "execution_count": 70,
   "id": "9796c355",
   "metadata": {},
   "outputs": [
    {
     "name": "stdout",
     "output_type": "stream",
     "text": [
      "Enter the dimension of the feature vector: 2\n",
      "Enter the number of samples: 4\n",
      "Feature Matrix:\n",
      " [[0.5155178  0.8869871  0.72344682 0.7689119 ]\n",
      " [0.84158271 0.74897393 0.95048708 0.89946363]]\n",
      "\n",
      "Covariance Matrix:\n",
      " [[ 0.02401556 -0.00417789]\n",
      " [-0.00417789  0.0074704 ]]\n",
      "\n",
      "Correlation Matrix:\n",
      " [[ 1.        -0.3119166]\n",
      " [-0.3119166  1.       ]]\n"
     ]
    }
   ],
   "source": [
    "if __name__ == \"__main__\":\n",
    "    main()"
   ]
  },
  {
   "cell_type": "code",
   "execution_count": null,
   "id": "2e19d339",
   "metadata": {},
   "outputs": [],
   "source": []
  }
 ],
 "metadata": {
  "kernelspec": {
   "display_name": "Python 3 (ipykernel)",
   "language": "python",
   "name": "python3"
  },
  "language_info": {
   "codemirror_mode": {
    "name": "ipython",
    "version": 3
   },
   "file_extension": ".py",
   "mimetype": "text/x-python",
   "name": "python",
   "nbconvert_exporter": "python",
   "pygments_lexer": "ipython3",
   "version": "3.10.9"
  }
 },
 "nbformat": 4,
 "nbformat_minor": 5
}
